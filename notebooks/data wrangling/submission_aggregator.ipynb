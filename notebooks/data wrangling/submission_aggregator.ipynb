{
 "cells": [
  {
   "cell_type": "code",
   "execution_count": 1,
   "metadata": {
    "collapsed": true
   },
   "outputs": [],
   "source": [
    "import pandas as pd\n",
    "import numpy as np\n",
    "from datetime import datetime\n",
    "import json\n",
    "import os\n",
    "from pprint import pprint\n",
    "from collections import defaultdict"
   ]
  },
  {
   "cell_type": "code",
   "execution_count": 2,
   "metadata": {
    "collapsed": true
   },
   "outputs": [],
   "source": [
    "DATEFORMAT = \"%Y-%m-%d %H:%M\""
   ]
  },
  {
   "cell_type": "code",
   "execution_count": 3,
   "metadata": {
    "collapsed": true
   },
   "outputs": [],
   "source": [
    "def convert_from_utc(utc_time):\n",
    "    \"\"\"\n",
    "    Convert from UTC to datetime object\n",
    "    \"\"\"\n",
    "    return datetime.utcfromtimestamp(utc_time)\n",
    "\n",
    "def convert_to_datetime(inputdt):\n",
    "    \"\"\"\n",
    "    Return datetime object with date for parameter\n",
    "    \"\"\"\n",
    "    return datetime.strftime(inputdt, DATEFORMAT)\n",
    "\n",
    "def convert_time(utc_time):\n",
    "    return convert_to_datetime(convert_from_utc(utc_time))"
   ]
  },
  {
   "cell_type": "code",
   "execution_count": 14,
   "metadata": {
    "collapsed": true
   },
   "outputs": [],
   "source": [
    "def get_comment_dictionary(body=False):\n",
    "    # read in comment dictionary from file\n",
    "    if body:\n",
    "        comment_dict_dir = '../../data/final/dictionaries/comments.json'\n",
    "    else:\n",
    "        comment_dict_dir = '../../data/final/dictionaries/comments-no-body.json'\n",
    "        \n",
    "    with open(comment_dict_dir,'r') as f:\n",
    "            # load data\n",
    "            file_data = json.load(f)\n",
    "    \n",
    "    return file_data   "
   ]
  },
  {
   "cell_type": "code",
   "execution_count": null,
   "metadata": {
    "collapsed": true
   },
   "outputs": [],
   "source": [
    "test = 1386623654"
   ]
  },
  {
   "cell_type": "code",
   "execution_count": null,
   "metadata": {
    "collapsed": true
   },
   "outputs": [],
   "source": [
    "test_dt = convert_from_utc(test)"
   ]
  },
  {
   "cell_type": "code",
   "execution_count": null,
   "metadata": {
    "collapsed": true
   },
   "outputs": [],
   "source": [
    "convert_time(test)"
   ]
  },
  {
   "cell_type": "code",
   "execution_count": null,
   "metadata": {
    "collapsed": true
   },
   "outputs": [],
   "source": [
    "comments = get_comment_dictionary()"
   ]
  },
  {
   "cell_type": "code",
   "execution_count": 13,
   "metadata": {
    "collapsed": true
   },
   "outputs": [],
   "source": [
    "def parse_repo_files(output):\n",
    "    # read in all submission files from submission folder\n",
    "    file_dir = '../../data/final/submissions'\n",
    "    # directory of submissions\n",
    "        \n",
    "    # extract data from repo files\n",
    "    print('Getting REPO Data...')\n",
    "    for sub_file in os.listdir(file_dir):\n",
    "        filename = sub_file[:-5]\n",
    "        print('parsing {}...'.format(sub_file))\n",
    "        \n",
    "        file_path = file_dir + '/' + sub_file\n",
    "        \n",
    "        # open each file and parse\n",
    "        with open(file_path,'r') as f:\n",
    "            # load data\n",
    "            file_data = json.load(f)\n",
    "            \n",
    "            # output print example if needed\n",
    "            pprint(file_data['1'])\n",
    "            \n",
    "            # for each subreddit and list of submissions for that sub\n",
    "            for subreddit, submissions in file_data.items():\n",
    "                # for each submission in list of submissions\n",
    "                for submission in submissions:\n",
    "                    if type(submission) != dict: continue\n",
    "                    pprint(submission)\n",
    "                    pprint(submissions)\n",
    "                    pprint(subreddit)\n",
    "\n",
    "                    submission_dict = dict()\n",
    "\n",
    "                    submission_dict['author_id'] = submission['author']\n",
    "                    submission_dict['time'] = datetime.utcfromtimestamp(int(submission[\"time\"])).strftime(DATEFORMAT)\n",
    "                    submission_dict['subreddit'] = subreddit\n",
    "                    submission_dict['title'] = submission['title']\n",
    "                    submission_dict['body'] = submission['body']\n",
    "                    submission_dict['score'] = submission['score']\n",
    "                    \n",
    "                    output[submission['id']] = submission_dict\n",
    "                    \n",
    "    return output"
   ]
  },
  {
   "cell_type": "code",
   "execution_count": 12,
   "metadata": {
    "collapsed": false
   },
   "outputs": [
    {
     "name": "stdout",
     "output_type": "stream",
     "text": [
      "Getting REPO Data...\n",
      "parsing bitcoin.json...\n",
      "{u'author': u'bilotrace',\n",
      " u'body': u'',\n",
      " u'downs': 8,\n",
      " u'id': u'nyk7m',\n",
      " u'num_comments': 15,\n",
      " u'time': 1325425821,\n",
      " u'title': u'This is why we need bitcoins',\n",
      " u'ups': 87,\n",
      " u'url': u'http://www.youtube.com/watch?feature=player_embedded&amp;v=xv3AhTL13BU'}\n",
      "u'body'\n",
      "{u'author': u'shortbitcoin',\n",
      " u'body': u'',\n",
      " u'downs': 0,\n",
      " u'id': u'3diyjz',\n",
      " u'num_comments': 30,\n",
      " u'time': u'1437067578',\n",
      " u'title': u'Bitcoin Price Collapses; What Now?',\n",
      " u'ups': 0,\n",
      " u'url': u'http://bitcoinwarrior.net/2015/07/bitcoin-price-collapses-what-now/'}\n",
      "u'287144'\n",
      "body\n"
     ]
    }
   ],
   "source": [
    "output = dict()\n",
    "output = parse_repo_files(output)"
   ]
  },
  {
   "cell_type": "code",
   "execution_count": null,
   "metadata": {
    "collapsed": true
   },
   "outputs": [],
   "source": [
    "def parse_api_files(output):\n",
    "    # read in all comment files from comment folder\n",
    "    api_dir = '../../data/final/api_data'\n",
    "\n",
    "    # directory of comments\n",
    "    \n",
    "    # extract data from reddit API\n",
    "    print('Getting API Data...')\n",
    "    for sub_file in os.listdir(api_dir):\n",
    "        filename = sub_file[:-5]\n",
    "        print('parsing {}...'.format(sub_file))\n",
    "        \n",
    "        file_path = api_dir + '/' + sub_file\n",
    "        \n",
    "        # open each file and parse\n",
    "        with open(file_path,'r') as f:\n",
    "            # load data\n",
    "            file_data = json.load(f)\n",
    "            \n",
    "            # output print example if needed\n",
    "            #pprint(file_data['1'])\n",
    "            #break\n",
    "            # for each entry\n",
    "            for entry in file_data.keys():\n",
    "\n",
    "                # load comments list into comment variable\n",
    "                comments = file_data[entry]['comments']\n",
    "                \n",
    "                # iterate through each comment\n",
    "                for comment in comments:\n",
    "                    # create dict to hold comment dictionary info\n",
    "                    comment_dict = dict()\n",
    "\n",
    "                    # error handle to ensure all are parsed\n",
    "                    try:\n",
    "                        if comment[2] == '' or comment[2] == ' ':\n",
    "                            comment_dict['author_id'] = '[deleted]'\n",
    "                        else:\n",
    "                            comment_dict['author_id'] = comment[2]\n",
    "                    except:\n",
    "                        pass\n",
    "                    try:\n",
    "                        comment_dict['subreddit'] = filename\n",
    "                    except:\n",
    "                        pass\n",
    "                    try:\n",
    "                        comment_dict['time'] = comment[0][:-3]\n",
    "                    except:\n",
    "                        pass\n",
    "                    try:\n",
    "                        comment_dict['link_id'] = comment[6]\n",
    "                    except:\n",
    "                        pass\n",
    "                    try:\n",
    "                        comment_dict['parent_id'] = comment[7]\n",
    "                    except:\n",
    "                        pass\n",
    "                    try:\n",
    "                        comment_dict['score'] = comment[4]\n",
    "                    except:\n",
    "                        pass\n",
    "                    try:\n",
    "                        comment_dict['body'] =  comment[3]\n",
    "                    except:\n",
    "                        pass\n",
    "                    output[comment[1]] = comment_dict\n",
    "    \n",
    "    return output"
   ]
  },
  {
   "cell_type": "code",
   "execution_count": null,
   "metadata": {
    "collapsed": true
   },
   "outputs": [],
   "source": [
    "def write_output(output):\n",
    "    # write data out to disk\n",
    "    print('writing data to disk...')\n",
    "    \n",
    "    out_path = '../../data/final/output/submissions.json'\n",
    "    with open(out_path,'w') as f:\n",
    "        json.dump(output, f)"
   ]
  },
  {
   "cell_type": "code",
   "execution_count": null,
   "metadata": {
    "collapsed": true
   },
   "outputs": [],
   "source": [
    "def parse_comment_files():\n",
    "    output = dict()\n",
    "    \n",
    "    output = parse_repo_files(output)\n",
    "    output = parse_api_files(output)\n",
    "    write_output(output)"
   ]
  },
  {
   "cell_type": "code",
   "execution_count": null,
   "metadata": {
    "collapsed": true
   },
   "outputs": [],
   "source": [
    "parse_comment_files(True)"
   ]
  },
  {
   "cell_type": "code",
   "execution_count": null,
   "metadata": {
    "collapsed": true
   },
   "outputs": [],
   "source": []
  }
 ],
 "metadata": {
  "kernelspec": {
   "display_name": "Python 2",
   "language": "python",
   "name": "python2"
  },
  "language_info": {
   "codemirror_mode": {
    "name": "ipython",
    "version": 2
   },
   "file_extension": ".py",
   "mimetype": "text/x-python",
   "name": "python",
   "nbconvert_exporter": "python",
   "pygments_lexer": "ipython2",
   "version": "2.7.5"
  }
 },
 "nbformat": 4,
 "nbformat_minor": 1
}
