{
 "cells": [
  {
   "cell_type": "code",
   "execution_count": 1,
   "metadata": {
    "collapsed": false
   },
   "outputs": [],
   "source": [
    "import os\n",
    "import json\n",
    "import numpy as np\n",
    "import pandas as pd\n",
    "import networkx as nx\n",
    "\n",
    "from pprint import pprint\n",
    "from datetime import datetime\n",
    "from collections import Counter"
   ]
  },
  {
   "cell_type": "markdown",
   "metadata": {},
   "source": [
    "### Data Retrieval Functions"
   ]
  },
  {
   "cell_type": "code",
   "execution_count": 2,
   "metadata": {
    "collapsed": true
   },
   "outputs": [],
   "source": [
    "# read in comment dictionary\n",
    "def get_comment_dictionary(body=False):\n",
    "    # read in comment dictionary from file\n",
    "    if body:\n",
    "        comment_dict_dir = '../../data/final/dictionaries/comments.json'\n",
    "    else:\n",
    "        comment_dict_dir = '../../data/final/dictionaries/comments-no-body.json'\n",
    "        \n",
    "    with open(comment_dict_dir,'r') as f:\n",
    "            # load data\n",
    "            file_data = json.load(f)\n",
    "    \n",
    "    return file_data   "
   ]
  },
  {
   "cell_type": "code",
   "execution_count": 3,
   "metadata": {
    "collapsed": true
   },
   "outputs": [],
   "source": [
    "# read in author dictionary\n",
    "def get_author_dictionary():\n",
    "    # read in comment dictionary from file\n",
    "    comment_dict_dir = '../../data/final/dictionaries/authors.json'\n",
    "        \n",
    "    with open(comment_dict_dir,'r') as f:\n",
    "            # load data\n",
    "            file_data = json.load(f)\n",
    "    \n",
    "    return file_data"
   ]
  },
  {
   "cell_type": "code",
   "execution_count": 4,
   "metadata": {
    "collapsed": true
   },
   "outputs": [],
   "source": [
    "# read in submissions dictionary\n",
    "def get_submission_dictionary(body=False):\n",
    "    # read in comment dictionary from file\n",
    "    if body:\n",
    "        submission_dict_dir = '../../data/final/dictionaries/submissions.json'\n",
    "    else:\n",
    "        submission_dict_dir = '../../data/final/dictionaries/submissions-no-body.json'\n",
    "          \n",
    "    with open(submission_dict_dir,'r') as f:\n",
    "            # load data\n",
    "            file_data = json.load(f)\n",
    "    \n",
    "    return file_data"
   ]
  },
  {
   "cell_type": "markdown",
   "metadata": {},
   "source": [
    "### Get dictionaries and preview contents"
   ]
  },
  {
   "cell_type": "code",
   "execution_count": 5,
   "metadata": {
    "collapsed": false
   },
   "outputs": [
    {
     "data": {
      "text/plain": [
       "14105159"
      ]
     },
     "execution_count": 5,
     "metadata": {},
     "output_type": "execute_result"
    }
   ],
   "source": [
    "# create comment dict instance\n",
    "comments = get_comment_dictionary()\n",
    "len(comments)"
   ]
  },
  {
   "cell_type": "code",
   "execution_count": 6,
   "metadata": {
    "collapsed": false
   },
   "outputs": [
    {
     "data": {
      "text/plain": [
       "398428"
      ]
     },
     "execution_count": 6,
     "metadata": {},
     "output_type": "execute_result"
    }
   ],
   "source": [
    "# create author dict instance\n",
    "authors = get_author_dictionary()\n",
    "len(authors)"
   ]
  },
  {
   "cell_type": "code",
   "execution_count": 7,
   "metadata": {
    "collapsed": false
   },
   "outputs": [
    {
     "data": {
      "text/plain": [
       "1051901"
      ]
     },
     "execution_count": 7,
     "metadata": {},
     "output_type": "execute_result"
    }
   ],
   "source": [
    "# create instance of submission dict\n",
    "submissions = get_submission_dictionary()\n",
    "len(submissions)"
   ]
  },
  {
   "cell_type": "code",
   "execution_count": 8,
   "metadata": {
    "collapsed": false
   },
   "outputs": [
    {
     "data": {
      "text/plain": [
       "[(u'dt6g6rt',\n",
       "  {u'author_id': u'ensoul',\n",
       "   u'link_id': u't3_7sl6wo',\n",
       "   u'parent_id': u't1_dt6dq5m',\n",
       "   u'score': 1,\n",
       "   u'subreddit': u'ethtrader',\n",
       "   u'time': u'2018-01-25 02:48'}),\n",
       " (u'cfm9pti',\n",
       "  {u'author_id': u'coins1204',\n",
       "   u'link_id': u't3_1ynczs',\n",
       "   u'parent_id': u't1_cfm1ylx',\n",
       "   u'score': u'7',\n",
       "   u'subreddit': u'cryptocurrency'}),\n",
       " (u'c88rr1t',\n",
       "  {u'author_id': u'stormsbrewing',\n",
       "   u'link_id': u't3_17ti07',\n",
       "   u'parent_id': u't1_c88qms2',\n",
       "   u'score': u'1',\n",
       "   u'subreddit': u'bitcoin'}),\n",
       " (u'cqzmgta',\n",
       "  {u'author_id': u'Sukrim',\n",
       "   u'link_id': u't3_34zj70',\n",
       "   u'parent_id': u't1_cqzldn7',\n",
       "   u'score': u'2',\n",
       "   u'subreddit': u'bitcoin'}),\n",
       " (u'cn9anjy',\n",
       "  {u'author_id': u'anti09',\n",
       "   u'link_id': u't3_2qpozx',\n",
       "   u'parent_id': u't1_cn9514j',\n",
       "   u'score': u'0',\n",
       "   u'subreddit': u'bitcoin'})]"
      ]
     },
     "execution_count": 8,
     "metadata": {},
     "output_type": "execute_result"
    }
   ],
   "source": [
    "comments.items()[:5]"
   ]
  },
  {
   "cell_type": "code",
   "execution_count": 9,
   "metadata": {
    "collapsed": false,
    "scrolled": true
   },
   "outputs": [
    {
     "data": {
      "text/plain": [
       "[(u'seven_71',\n",
       "  {u'comment_id': [u'dplzxhh'],\n",
       "   u'submission_id': [u'7553hy',\n",
       "    u'75tz4x',\n",
       "    u'78a2h5',\n",
       "    u'7bze5x',\n",
       "    u'7d1m8l',\n",
       "    u'71mh1d']}),\n",
       " (u'umbertostrange',\n",
       "  {u'comment_id': [u'dq2m1ur',\n",
       "    u'dq2ma06',\n",
       "    u'dq2me8p',\n",
       "    u'dq2ny6l',\n",
       "    u'dq37pt6',\n",
       "    u'dpmgpuh',\n",
       "    u'dpmh9as',\n",
       "    u'dppjh42',\n",
       "    u'dppjj83',\n",
       "    u'dppn98b',\n",
       "    u'dpppl0x',\n",
       "    u'dpppufm',\n",
       "    u'dppq4x8',\n",
       "    u'dppqewp',\n",
       "    u'dppqq74',\n",
       "    u'dppquo9',\n",
       "    u'dppr8qt',\n",
       "    u'dpprobr',\n",
       "    u'dpq5g96',\n",
       "    u'dpr0n2a',\n",
       "    u'dpr0r51',\n",
       "    u'dpsesjx',\n",
       "    u'dpseu1t',\n",
       "    u'dpsh22b',\n",
       "    u'dpt1d29',\n",
       "    u'dpt1gcl',\n",
       "    u'dpt1t9z',\n",
       "    u'dpt2maa',\n",
       "    u'dpubi3g',\n",
       "    u'dpubz9x',\n",
       "    u'dpvhqw1',\n",
       "    u'dpvi3cq',\n",
       "    u'dpvi6s4',\n",
       "    u'dpvikk3',\n",
       "    u'dpviq85',\n",
       "    u'dpw6k8e',\n",
       "    u'dpw6lrq',\n",
       "    u'dpwsqq1',\n",
       "    u'dpxpo2n',\n",
       "    u'dpxppru',\n",
       "    u'dpxqect',\n",
       "    u'dpymhm6',\n",
       "    u'dpzahle',\n",
       "    u'dq0kmis',\n",
       "    u'dq18s6f',\n",
       "    u'dq192u2',\n",
       "    u'dq198kl',\n",
       "    u'dq48ywu',\n",
       "    u'dq4c8z3',\n",
       "    u'dqdghsn',\n",
       "    u'dqdi1iy',\n",
       "    u'dqdj62g',\n",
       "    u'drjvvst',\n",
       "    u'dvkmyzi',\n",
       "    u'dqoexku',\n",
       "    u'dqofa68',\n",
       "    u'dql929p',\n",
       "    u'drlqux0',\n",
       "    u'drlrtlq',\n",
       "    u'drlruux',\n",
       "    u'drlmy64',\n",
       "    u'drlr9x7',\n",
       "    u'drlr7jf',\n",
       "    u'drlmwng',\n",
       "    u'drlrest',\n",
       "    u'drlmmr3',\n",
       "    u'drlrjnu',\n",
       "    u'drlmyqi',\n",
       "    u'drlr1mb',\n",
       "    u'drlr36f',\n",
       "    u'drlrm27',\n",
       "    u'drlnpyu',\n",
       "    u'drlr98h',\n",
       "    u'drlnfjr',\n",
       "    u'drlrx7h'],\n",
       "   u'submission_id': []}),\n",
       " (u'papayapermakultur',\n",
       "  {u'comment_id': [u'dp4nyqa',\n",
       "    u'dkiamjs',\n",
       "    u'dkk4s7d',\n",
       "    u'dkto5kf',\n",
       "    u'dkwbd7i',\n",
       "    u'dl5rion',\n",
       "    u'dl5rkhq',\n",
       "    u'dm4e73r',\n",
       "    u'dnn3g75',\n",
       "    u'dno6sav',\n",
       "    u'dno9jtm',\n",
       "    u'dnop8ms',\n",
       "    u'dnounrn',\n",
       "    u'dnowvtb',\n",
       "    u'dnsws50',\n",
       "    u'dnyaeef',\n",
       "    u'dparqif'],\n",
       "   u'submission_id': [u'6otknk', u'731a4v', u'7gi51g']}),\n",
       " (u'MelvisProctacardt',\n",
       "  {u'comment_id': [u'e7zwiqp',\n",
       "    u'e3l8zuh',\n",
       "    u'e3l92ps',\n",
       "    u'dydq30j',\n",
       "    u'dye9tu2',\n",
       "    u'dye6qeq',\n",
       "    u'e6hiqma',\n",
       "    u'e6hzxwy',\n",
       "    u'dyfso6y',\n",
       "    u'dyg0l11',\n",
       "    u'dyftd5q',\n",
       "    u'dyft89i',\n",
       "    u'dyftlgt',\n",
       "    u'dyfu88u',\n",
       "    u'dyft79o',\n",
       "    u'dyft9yk',\n",
       "    u'dyfwx3o',\n",
       "    u'dyfuajv',\n",
       "    u'dyfu52k',\n",
       "    u'dyfz4iv',\n",
       "    u'e0x9i68',\n",
       "    u'e1ngilp',\n",
       "    u'e1nglit',\n",
       "    u'e1ngobc',\n",
       "    u'e1ngrjl',\n",
       "    u'e1ngs9a',\n",
       "    u'e1nhmgc',\n",
       "    u'e1oqp09',\n",
       "    u'e1ngxao',\n",
       "    u'e1pjscu',\n",
       "    u'e3tizvk',\n",
       "    u'e3tmdhy',\n",
       "    u'e3tm93e',\n",
       "    u'dykvtrc',\n",
       "    u'dykyiw9',\n",
       "    u'dykx9a6',\n",
       "    u'dzveg8s',\n",
       "    u'e1i85oa',\n",
       "    u'e1imsz1',\n",
       "    u'e1hwr4z',\n",
       "    u'e13nlc4',\n",
       "    u'e5fd5nz',\n",
       "    u'e5fdaqf',\n",
       "    u'dz5fpio',\n",
       "    u'dyi9j2w',\n",
       "    u'dyicp2n'],\n",
       "   u'submission_id': []})]"
      ]
     },
     "execution_count": 9,
     "metadata": {},
     "output_type": "execute_result"
    }
   ],
   "source": [
    "authors.items()[1:5]"
   ]
  },
  {
   "cell_type": "code",
   "execution_count": 10,
   "metadata": {
    "collapsed": false
   },
   "outputs": [
    {
     "data": {
      "text/plain": [
       "[(u'dt6g6rt',\n",
       "  {u'author_id': u'ensoul',\n",
       "   u'link_id': u't3_7sl6wo',\n",
       "   u'parent_id': u't1_dt6dq5m',\n",
       "   u'score': 1,\n",
       "   u'subreddit': u'ethtrader',\n",
       "   u'time': u'2018-01-25 02:48'}),\n",
       " (u'cfm9pti',\n",
       "  {u'author_id': u'coins1204',\n",
       "   u'link_id': u't3_1ynczs',\n",
       "   u'parent_id': u't1_cfm1ylx',\n",
       "   u'score': u'7',\n",
       "   u'subreddit': u'cryptocurrency'}),\n",
       " (u'c88rr1t',\n",
       "  {u'author_id': u'stormsbrewing',\n",
       "   u'link_id': u't3_17ti07',\n",
       "   u'parent_id': u't1_c88qms2',\n",
       "   u'score': u'1',\n",
       "   u'subreddit': u'bitcoin'}),\n",
       " (u'cqzmgta',\n",
       "  {u'author_id': u'Sukrim',\n",
       "   u'link_id': u't3_34zj70',\n",
       "   u'parent_id': u't1_cqzldn7',\n",
       "   u'score': u'2',\n",
       "   u'subreddit': u'bitcoin'}),\n",
       " (u'cn9anjy',\n",
       "  {u'author_id': u'anti09',\n",
       "   u'link_id': u't3_2qpozx',\n",
       "   u'parent_id': u't1_cn9514j',\n",
       "   u'score': u'0',\n",
       "   u'subreddit': u'bitcoin'})]"
      ]
     },
     "execution_count": 10,
     "metadata": {},
     "output_type": "execute_result"
    }
   ],
   "source": [
    "comments.items()[:5]"
   ]
  },
  {
   "cell_type": "code",
   "execution_count": 11,
   "metadata": {
    "collapsed": false
   },
   "outputs": [
    {
     "data": {
      "text/plain": [
       "[(u'4jkdhy',\n",
       "  {u'author': [u'munteanualex_ro'],\n",
       "   u'body': [],\n",
       "   u'comment_id': [u'd37fjem',\n",
       "    u'd37gxkg',\n",
       "    u'd37k317',\n",
       "    u'd37kbpv',\n",
       "    u'd37lxoy',\n",
       "    u'd37lz3g',\n",
       "    u'd38qxcv',\n",
       "    u'd39fzj8'],\n",
       "   u'subreddit': [u'btc'],\n",
       "   u'time': [u'2016-05-16 09:28:23'],\n",
       "   u'title': [u'I found some information about the guy who stole $10,000 in cryptos']}),\n",
       " (u'4l0fxz',\n",
       "  {u'author': [u'heliumcraft'],\n",
       "   u'body': [],\n",
       "   u'comment_id': [u'd3jx5z0'],\n",
       "   u'subreddit': [u'ethereum'],\n",
       "   u'time': [u'2016-05-25 16:18:15'],\n",
       "   u'title': [u'EtherSim 0.4.0 - Ethereum simulator for testing and development purposes']}),\n",
       " (u'3byh3l',\n",
       "  {u'author': [u'CheeseVikings'],\n",
       "   u'body': [],\n",
       "   u'comment_id': [],\n",
       "   u'subreddit': [u'cryptocurrency'],\n",
       "   u'time': [u'2015-07-03 04:54:39'],\n",
       "   u'title': [u'The Future of the Web Looks a Lot Like Bitcoin']}),\n",
       " (u'6m9tx0',\n",
       "  {u'author': [u'HurtlingTurtle'],\n",
       "   u'body': [],\n",
       "   u'comment_id': [],\n",
       "   u'subreddit': [u'cryptocurrency'],\n",
       "   u'time': [u'2017-07-09 20:41:33'],\n",
       "   u'title': [u'https://www.blockrent.club']}),\n",
       " (u'1xs591',\n",
       "  {u'author': [u'galimi'],\n",
       "   u'body': [],\n",
       "   u'comment_id': [],\n",
       "   u'subreddit': [u'bitcoin'],\n",
       "   u'time': [u'2014-02-13 06:00:46'],\n",
       "   u'title': [u'Had this created on Fiverr.com for $5 worth of Bitcoin']})]"
      ]
     },
     "execution_count": 11,
     "metadata": {},
     "output_type": "execute_result"
    }
   ],
   "source": [
    "submissions.items()[:5]"
   ]
  },
  {
   "cell_type": "code",
   "execution_count": 12,
   "metadata": {
    "collapsed": true
   },
   "outputs": [],
   "source": [
    "# create DIRECTED graph of comment_poster from edge_list\n",
    "def get_edge_list(score=False, multi=False):\n",
    "    if score:\n",
    "        filename='commenter-poster.txt'\n",
    "    else:\n",
    "        filename='commenter-poster_no-score.txt'\n",
    "    # read in edge list of commenters and submitters\n",
    "    if multi:\n",
    "        return nx.read_edgelist('../../data/final/graph_tools/' + filename, create_using=nx.MultiDiGraph())\n",
    "    else:\n",
    "        return nx.read_edgelist('../../data/final/graph_tools/' + filename, create_using=nx.DiGraph())"
   ]
  },
  {
   "cell_type": "markdown",
   "metadata": {},
   "source": [
    "### Reddit Network as Directed Graph"
   ]
  },
  {
   "cell_type": "code",
   "execution_count": 13,
   "metadata": {
    "collapsed": false
   },
   "outputs": [],
   "source": [
    "# read in graph of edge-list\n",
    "G = get_edge_list(score=False, multi=False)"
   ]
  },
  {
   "cell_type": "code",
   "execution_count": 14,
   "metadata": {
    "collapsed": true
   },
   "outputs": [],
   "source": [
    "# drop specific nodes\n",
    "drop_nodes = ['AutoModerator','[deleted]']\n",
    "G.remove_nodes_from(drop_nodes)"
   ]
  },
  {
   "cell_type": "code",
   "execution_count": 15,
   "metadata": {
    "collapsed": false
   },
   "outputs": [
    {
     "data": {
      "text/plain": [
       "5003732"
      ]
     },
     "execution_count": 15,
     "metadata": {},
     "output_type": "execute_result"
    }
   ],
   "source": [
    "# show number of edges (replies tied to submissions)\n",
    "G.number_of_edges()"
   ]
  },
  {
   "cell_type": "code",
   "execution_count": 16,
   "metadata": {
    "collapsed": false
   },
   "outputs": [
    {
     "data": {
      "text/plain": [
       "462646"
      ]
     },
     "execution_count": 16,
     "metadata": {},
     "output_type": "execute_result"
    }
   ],
   "source": [
    "# show number of nodes (ids of commenters or submitters)\n",
    "G.number_of_nodes()"
   ]
  },
  {
   "cell_type": "markdown",
   "metadata": {},
   "source": [
    "### Reddit Network as Directed Multi-Graph"
   ]
  },
  {
   "cell_type": "code",
   "execution_count": 17,
   "metadata": {
    "collapsed": false
   },
   "outputs": [],
   "source": [
    "# read in graph of edge-list\n",
    "G_multi = get_edge_list(score=False, multi=True)"
   ]
  },
  {
   "cell_type": "code",
   "execution_count": 18,
   "metadata": {
    "collapsed": true
   },
   "outputs": [],
   "source": [
    "# drop specific nodes\n",
    "drop_nodes = ['AutoModerator','[deleted]']\n",
    "G_multi.remove_nodes_from(drop_nodes)"
   ]
  },
  {
   "cell_type": "code",
   "execution_count": 19,
   "metadata": {
    "collapsed": false
   },
   "outputs": [
    {
     "data": {
      "text/plain": [
       "9909707"
      ]
     },
     "execution_count": 19,
     "metadata": {},
     "output_type": "execute_result"
    }
   ],
   "source": [
    "# show number of edges (replies tied to submissions)\n",
    "G_multi.number_of_edges()"
   ]
  },
  {
   "cell_type": "code",
   "execution_count": 20,
   "metadata": {
    "collapsed": false
   },
   "outputs": [
    {
     "data": {
      "text/plain": [
       "462646"
      ]
     },
     "execution_count": 20,
     "metadata": {},
     "output_type": "execute_result"
    }
   ],
   "source": [
    "# show number of nodes (ids of commenters or submitters)\n",
    "G_multi.number_of_nodes()"
   ]
  },
  {
   "cell_type": "markdown",
   "metadata": {},
   "source": [
    "### Descriptives Stats"
   ]
  }
 ],
 "metadata": {
  "kernelspec": {
   "display_name": "Python 2",
   "language": "python",
   "name": "python2"
  },
  "language_info": {
   "codemirror_mode": {
    "name": "ipython",
    "version": 2
   },
   "file_extension": ".py",
   "mimetype": "text/x-python",
   "name": "python",
   "nbconvert_exporter": "python",
   "pygments_lexer": "ipython2",
   "version": "2.7.5"
  }
 },
 "nbformat": 4,
 "nbformat_minor": 1
}
