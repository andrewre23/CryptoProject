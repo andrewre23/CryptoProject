{
 "cells": [
  {
   "cell_type": "code",
   "execution_count": 1,
   "metadata": {
    "collapsed": false
   },
   "outputs": [],
   "source": [
    "import os\n",
    "import json\n",
    "import numpy as np\n",
    "import pandas as pd\n",
    "import networkx as nx\n",
    "\n",
    "from pprint import pprint\n",
    "from datetime import datetime\n",
    "from collections import Counter"
   ]
  },
  {
   "cell_type": "markdown",
   "metadata": {},
   "source": [
    "### Data Retrieval Functions"
   ]
  },
  {
   "cell_type": "code",
   "execution_count": 2,
   "metadata": {
    "collapsed": true
   },
   "outputs": [],
   "source": [
    "# read in comment dictionary\n",
    "def get_comment_dictionary(body=False):\n",
    "    # read in comment dictionary from file\n",
    "    if body:\n",
    "        comment_dict_dir = '../../data/final/dictionaries/comments.json'\n",
    "    else:\n",
    "        comment_dict_dir = '../../data/final/dictionaries/comments-no-body.json'\n",
    "        \n",
    "    with open(comment_dict_dir,'r') as f:\n",
    "            # load data\n",
    "            file_data = json.load(f)\n",
    "    \n",
    "    return file_data   "
   ]
  },
  {
   "cell_type": "code",
   "execution_count": 3,
   "metadata": {
    "collapsed": true
   },
   "outputs": [],
   "source": [
    "# read in author dictionary\n",
    "def get_author_dictionary():\n",
    "    # read in comment dictionary from file\n",
    "    comment_dict_dir = '../../data/final/dictionaries/authors.json'\n",
    "        \n",
    "    with open(comment_dict_dir,'r') as f:\n",
    "            # load data\n",
    "            file_data = json.load(f)\n",
    "    \n",
    "    return file_data"
   ]
  },
  {
   "cell_type": "code",
   "execution_count": 4,
   "metadata": {
    "collapsed": true
   },
   "outputs": [],
   "source": [
    "# read in submissions dictionary\n",
    "def get_submission_dictionary(body=False):\n",
    "    # read in comment dictionary from file\n",
    "    if body:\n",
    "        submission_dict_dir = '../../data/final/dictionaries/submissions.json'\n",
    "    else:\n",
    "        submission_dict_dir = '../../data/final/dictionaries/submissions-no-body.json'\n",
    "          \n",
    "    with open(submission_dict_dir,'r') as f:\n",
    "            # load data\n",
    "            file_data = json.load(f)\n",
    "    \n",
    "    return file_data"
   ]
  },
  {
   "cell_type": "markdown",
   "metadata": {},
   "source": [
    "### Get dictionaries and preview contents"
   ]
  },
  {
   "cell_type": "code",
   "execution_count": 5,
   "metadata": {
    "collapsed": false
   },
   "outputs": [
    {
     "data": {
      "text/plain": [
       "14105159"
      ]
     },
     "execution_count": 5,
     "metadata": {},
     "output_type": "execute_result"
    }
   ],
   "source": [
    "# create comment dict instance\n",
    "comments = get_comment_dictionary()\n",
    "len(comments)"
   ]
  },
  {
   "cell_type": "code",
   "execution_count": 6,
   "metadata": {
    "collapsed": false
   },
   "outputs": [
    {
     "data": {
      "text/plain": [
       "505476"
      ]
     },
     "execution_count": 6,
     "metadata": {},
     "output_type": "execute_result"
    }
   ],
   "source": [
    "# create author dict instance\n",
    "authors = get_author_dictionary()\n",
    "len(authors)"
   ]
  },
  {
   "cell_type": "code",
   "execution_count": 7,
   "metadata": {
    "collapsed": false
   },
   "outputs": [
    {
     "data": {
      "text/plain": [
       "1052598"
      ]
     },
     "execution_count": 7,
     "metadata": {},
     "output_type": "execute_result"
    }
   ],
   "source": [
    "# create instance of submission dict\n",
    "submissions = get_submission_dictionary()\n",
    "len(submissions)"
   ]
  },
  {
   "cell_type": "code",
   "execution_count": 8,
   "metadata": {
    "collapsed": false,
    "scrolled": true
   },
   "outputs": [
    {
     "data": {
      "text/plain": [
       "[(u'seven_71',\n",
       "  {u'comment_id': [u'dplzxhh'],\n",
       "   u'submission_id': [u'7553hy',\n",
       "    u'75tz4x',\n",
       "    u'78a2h5',\n",
       "    u'7bze5x',\n",
       "    u'7d1m8l',\n",
       "    u'71mh1d']}),\n",
       " (u'umbertostrange',\n",
       "  {u'comment_id': [u'dq2m1ur',\n",
       "    u'dq2ma06',\n",
       "    u'dq2me8p',\n",
       "    u'dq2ny6l',\n",
       "    u'dq37pt6',\n",
       "    u'dpmgpuh',\n",
       "    u'dpmh9as',\n",
       "    u'dppjh42',\n",
       "    u'dppjj83',\n",
       "    u'dppn98b',\n",
       "    u'dpppl0x',\n",
       "    u'dpppufm',\n",
       "    u'dppq4x8',\n",
       "    u'dppqewp',\n",
       "    u'dppqq74',\n",
       "    u'dppquo9',\n",
       "    u'dppr8qt',\n",
       "    u'dpprobr',\n",
       "    u'dpq5g96',\n",
       "    u'dpr0n2a',\n",
       "    u'dpr0r51',\n",
       "    u'dpsesjx',\n",
       "    u'dpseu1t',\n",
       "    u'dpsh22b',\n",
       "    u'dpt1d29',\n",
       "    u'dpt1gcl',\n",
       "    u'dpt1t9z',\n",
       "    u'dpt2maa',\n",
       "    u'dpubi3g',\n",
       "    u'dpubz9x',\n",
       "    u'dpvhqw1',\n",
       "    u'dpvi3cq',\n",
       "    u'dpvi6s4',\n",
       "    u'dpvikk3',\n",
       "    u'dpviq85',\n",
       "    u'dpw6k8e',\n",
       "    u'dpw6lrq',\n",
       "    u'dpwsqq1',\n",
       "    u'dpxpo2n',\n",
       "    u'dpxppru',\n",
       "    u'dpxqect',\n",
       "    u'dpymhm6',\n",
       "    u'dpzahle',\n",
       "    u'dq0kmis',\n",
       "    u'dq18s6f',\n",
       "    u'dq192u2',\n",
       "    u'dq198kl',\n",
       "    u'dq48ywu',\n",
       "    u'dq4c8z3',\n",
       "    u'dqdghsn',\n",
       "    u'dqdi1iy',\n",
       "    u'dqdj62g',\n",
       "    u'drjvvst',\n",
       "    u'dvkmyzi',\n",
       "    u'dqoexku',\n",
       "    u'dqofa68',\n",
       "    u'drlqux0',\n",
       "    u'drlrtlq',\n",
       "    u'drlruux',\n",
       "    u'drlmy64',\n",
       "    u'drlr9x7',\n",
       "    u'drlr7jf',\n",
       "    u'drlmwng',\n",
       "    u'drlrest',\n",
       "    u'drlmmr3',\n",
       "    u'drlrjnu',\n",
       "    u'drlmyqi',\n",
       "    u'drlr1mb',\n",
       "    u'drlr36f',\n",
       "    u'drlrm27',\n",
       "    u'drlnpyu',\n",
       "    u'drlr98h',\n",
       "    u'drlnfjr',\n",
       "    u'drlrx7h'],\n",
       "   u'submission_id': []}),\n",
       " (u'papayapermakultur',\n",
       "  {u'comment_id': [u'dp4nyqa',\n",
       "    u'dkiamjs',\n",
       "    u'dkk4s7d',\n",
       "    u'dkto5kf',\n",
       "    u'dkwbd7i',\n",
       "    u'dl5rion',\n",
       "    u'dl5rkhq',\n",
       "    u'dm4e73r',\n",
       "    u'dnn3g75',\n",
       "    u'dno6sav',\n",
       "    u'dno9jtm',\n",
       "    u'dnop8ms',\n",
       "    u'dnounrn',\n",
       "    u'dnowvtb',\n",
       "    u'dnsws50',\n",
       "    u'dnyaeef',\n",
       "    u'dparqif',\n",
       "    u'dkoogel',\n",
       "    u'dkoomps',\n",
       "    u'dkop1w5',\n",
       "    u'dkop6w3',\n",
       "    u'dkopc9j',\n",
       "    u'dl5lekj',\n",
       "    u'dl5rsvc',\n",
       "    u'dow1ngw',\n",
       "    u'dpgkfkj',\n",
       "    u'dpj1u4c',\n",
       "    u'dqf7i25'],\n",
       "   u'submission_id': [u'6otknk', u'731a4v', u'7gi51g']}),\n",
       " (u'fappethyme',\n",
       "  {u'comment_id': [u'd989e4u', u'd9a9onc'], u'submission_id': []})]"
      ]
     },
     "execution_count": 8,
     "metadata": {},
     "output_type": "execute_result"
    }
   ],
   "source": [
    "authors.items()[1:5]"
   ]
  },
  {
   "cell_type": "code",
   "execution_count": 9,
   "metadata": {
    "collapsed": false
   },
   "outputs": [
    {
     "data": {
      "text/plain": [
       "[(u'dt6g6rt',\n",
       "  {u'author_id': u'ensoul',\n",
       "   u'link_id': u't3_7sl6wo',\n",
       "   u'parent_id': u't1_dt6dq5m',\n",
       "   u'score': 1,\n",
       "   u'subreddit': u'ethtrader',\n",
       "   u'time': u'2018-01-25 02:48'}),\n",
       " (u'cfm9pti',\n",
       "  {u'author_id': u'coins1204',\n",
       "   u'link_id': u't3_1ynczs',\n",
       "   u'parent_id': u't1_cfm1ylx',\n",
       "   u'score': u'7',\n",
       "   u'subreddit': u'cryptocurrency'}),\n",
       " (u'c88rr1t',\n",
       "  {u'author_id': u'stormsbrewing',\n",
       "   u'link_id': u't3_17ti07',\n",
       "   u'parent_id': u't1_c88qms2',\n",
       "   u'score': u'1',\n",
       "   u'subreddit': u'bitcoin'}),\n",
       " (u'cqzmgta',\n",
       "  {u'author_id': u'Sukrim',\n",
       "   u'link_id': u't3_34zj70',\n",
       "   u'parent_id': u't1_cqzldn7',\n",
       "   u'score': u'2',\n",
       "   u'subreddit': u'bitcoin'}),\n",
       " (u'cn9anjy',\n",
       "  {u'author_id': u'anti09',\n",
       "   u'link_id': u't3_2qpozx',\n",
       "   u'parent_id': u't1_cn9514j',\n",
       "   u'score': u'0',\n",
       "   u'subreddit': u'bitcoin'})]"
      ]
     },
     "execution_count": 9,
     "metadata": {},
     "output_type": "execute_result"
    }
   ],
   "source": [
    "comments.items()[:5]"
   ]
  },
  {
   "cell_type": "code",
   "execution_count": 10,
   "metadata": {
    "collapsed": false
   },
   "outputs": [
    {
     "data": {
      "text/plain": [
       "[(u'4jkdhy',\n",
       "  {u'author': [u'munteanualex_ro'],\n",
       "   u'body': [u'Original thread: https://redd.it/4iwfsx\\nAfter the execution, the malware send some data to bnaf12.no-ip.biz.  This is the attacker website http://paulie[.]rocks/\\n\\nhttp://imgur.com/pPinOgK\\n\\nhttps://bitcointalk.org/index.php?action=profile;u=838056\\nhttps://www.reddit.com/user/PaulieGolding\\nhttps://bazaarbay.org/@pauliegolding\\nhttps://www.bustabit.com/user/PaulieGolding'],\n",
       "   u'comment_id': [u'd37fjem',\n",
       "    u'd37gxkg',\n",
       "    u'd37k317',\n",
       "    u'd37kbpv',\n",
       "    u'd37lxoy',\n",
       "    u'd37lz3g',\n",
       "    u'd38qxcv',\n",
       "    u'd39fzj8'],\n",
       "   u'subreddit': [u'btc'],\n",
       "   u'time': [u'2016-05-16 09:28:23'],\n",
       "   u'title': [u'I found some information about the guy who stole $10,000 in cryptos']}),\n",
       " (u'4l0fxz',\n",
       "  {u'author': [u'heliumcraft'],\n",
       "   u'body': [u''],\n",
       "   u'comment_id': [u'd3jx5z0'],\n",
       "   u'subreddit': [u'ethereum'],\n",
       "   u'time': [u'2016-05-25 16:18:15'],\n",
       "   u'title': [u'EtherSim 0.4.0 - Ethereum simulator for testing and development purposes']}),\n",
       " (u'3byh3l',\n",
       "  {u'author': [u'CheeseVikings'],\n",
       "   u'body': [u''],\n",
       "   u'comment_id': [],\n",
       "   u'subreddit': [u'cryptocurrency'],\n",
       "   u'time': [u'2015-07-03 04:54:39'],\n",
       "   u'title': [u'The Future of the Web Looks a Lot Like Bitcoin']}),\n",
       " (u'6m9tx0',\n",
       "  {u'author': [u'HurtlingTurtle'],\n",
       "   u'body': [u''],\n",
       "   u'comment_id': [],\n",
       "   u'subreddit': [u'cryptocurrency'],\n",
       "   u'time': [u'2017-07-09 20:41:33'],\n",
       "   u'title': [u'https://www.blockrent.club']}),\n",
       " (u'1xs591',\n",
       "  {u'author': [u'galimi'],\n",
       "   u'body': [u''],\n",
       "   u'comment_id': [u'cfe63hw',\n",
       "    u'cfe6e30',\n",
       "    u'cfe6fem',\n",
       "    u'cfe6idz',\n",
       "    u'cfe6qa3',\n",
       "    u'cfe6qul',\n",
       "    u'cfe6y67',\n",
       "    u'cfe6yr7',\n",
       "    u'cfe71ib',\n",
       "    u'cfe74ec',\n",
       "    u'cfe7dhm',\n",
       "    u'cfe82e7',\n",
       "    u'cfe82pb',\n",
       "    u'cfe8zcb',\n",
       "    u'cfe9ujo',\n",
       "    u'cfednpr',\n",
       "    u'cfefu98',\n",
       "    u'cfeg9jk',\n",
       "    u'cfegont',\n",
       "    u'cfes2wg'],\n",
       "   u'subreddit': [u'bitcoin'],\n",
       "   u'time': [u'2014-02-13 06:00:46'],\n",
       "   u'title': [u'Had this created on Fiverr.com for $5 worth of Bitcoin']})]"
      ]
     },
     "execution_count": 10,
     "metadata": {},
     "output_type": "execute_result"
    }
   ],
   "source": [
    "submissions.items()[:5]"
   ]
  },
  {
   "cell_type": "code",
   "execution_count": 11,
   "metadata": {
    "collapsed": true
   },
   "outputs": [],
   "source": [
    "# create DIRECTED graph of comment_poster from edge_list\n",
    "def get_edge_list(score=False, multi=False):\n",
    "    if score:\n",
    "        filename='commenter-poster.txt'\n",
    "    else:\n",
    "        filename='commenter-poster_no-score.txt'\n",
    "    # read in edge list of commenters and submitters\n",
    "    if multi:\n",
    "        return nx.read_edgelist('../../data/final/graph_tools/' + filename, create_using=nx.MultiDiGraph())\n",
    "    else:\n",
    "        return nx.read_edgelist('../../data/final/graph_tools/' + filename, create_using=nx.DiGraph())"
   ]
  },
  {
   "cell_type": "markdown",
   "metadata": {},
   "source": [
    "### Reddit Network as Directed Graph"
   ]
  },
  {
   "cell_type": "code",
   "execution_count": 12,
   "metadata": {
    "collapsed": false
   },
   "outputs": [],
   "source": [
    "# read in graph of edge-list\n",
    "G = get_edge_list(score=False, multi=False)"
   ]
  },
  {
   "cell_type": "code",
   "execution_count": 13,
   "metadata": {
    "collapsed": true
   },
   "outputs": [],
   "source": [
    "# drop specific nodes\n",
    "drop_nodes = ['AutoModerator','[deleted]']\n",
    "G.remove_nodes_from(drop_nodes)"
   ]
  },
  {
   "cell_type": "code",
   "execution_count": 14,
   "metadata": {
    "collapsed": false
   },
   "outputs": [
    {
     "data": {
      "text/plain": [
       "5011529"
      ]
     },
     "execution_count": 14,
     "metadata": {},
     "output_type": "execute_result"
    }
   ],
   "source": [
    "# show number of edges (replies tied to submissions)\n",
    "G.number_of_edges()"
   ]
  },
  {
   "cell_type": "code",
   "execution_count": 15,
   "metadata": {
    "collapsed": false
   },
   "outputs": [
    {
     "data": {
      "text/plain": [
       "463536"
      ]
     },
     "execution_count": 15,
     "metadata": {},
     "output_type": "execute_result"
    }
   ],
   "source": [
    "# show number of nodes (ids of commenters or submitters)\n",
    "G.number_of_nodes()"
   ]
  },
  {
   "cell_type": "code",
   "execution_count": 16,
   "metadata": {
    "collapsed": false
   },
   "outputs": [],
   "source": [
    "# create dictionary of nodes as keys and PageRank score as value\n",
    "pr_dict = nx.algorithms.pagerank_scipy(G)"
   ]
  },
  {
   "cell_type": "code",
   "execution_count": 17,
   "metadata": {
    "collapsed": false
   },
   "outputs": [
    {
     "data": {
      "text/plain": [
       "463536"
      ]
     },
     "execution_count": 17,
     "metadata": {},
     "output_type": "execute_result"
    }
   ],
   "source": [
    "# ensure matches previous number of nodes\n",
    "len(pr_dict)"
   ]
  },
  {
   "cell_type": "code",
   "execution_count": 18,
   "metadata": {
    "collapsed": false
   },
   "outputs": [],
   "source": [
    "# create sorted list of tuples of nodes and their PageRank values, sorted by descending PR score\n",
    "pr_sorted = [(key, pr_dict[key]) for key in sorted(pr_dict.iterkeys(), key=(lambda key: pr_dict[key]), reverse=True)]"
   ]
  },
  {
   "cell_type": "code",
   "execution_count": 19,
   "metadata": {
    "collapsed": false
   },
   "outputs": [
    {
     "data": {
      "text/plain": [
       "463536"
      ]
     },
     "execution_count": 19,
     "metadata": {},
     "output_type": "execute_result"
    }
   ],
   "source": [
    "# ensure matches previous number of nodes\n",
    "len(pr_sorted)"
   ]
  },
  {
   "cell_type": "code",
   "execution_count": 20,
   "metadata": {
    "collapsed": false
   },
   "outputs": [
    {
     "data": {
      "text/plain": [
       "[(u'BashCo', 0.0017785651779523015),\n",
       " (u'Fast0rer', 0.0017214375424149978),\n",
       " (u'AnalyzerX7', 0.0017114932301918408),\n",
       " (u'Gabriel-Lewis', 0.001635383832111839),\n",
       " (u'LeeWallis', 0.0016163610858741888)]"
      ]
     },
     "execution_count": 20,
     "metadata": {},
     "output_type": "execute_result"
    }
   ],
   "source": [
    "# show top 5 values\n",
    "pr_sorted[:5]"
   ]
  },
  {
   "cell_type": "code",
   "execution_count": 46,
   "metadata": {
    "collapsed": false
   },
   "outputs": [
    {
     "data": {
      "text/plain": [
       "[u'BashCo', u'Fast0rer', u'AnalyzerX7', u'Gabriel-Lewis', u'LeeWallis']"
      ]
     },
     "execution_count": 46,
     "metadata": {},
     "output_type": "execute_result"
    }
   ],
   "source": [
    "# get list of top 100 'best' nodes per PageRank\n",
    "top_nodes_pr = [entry[0] for entry in pr_sorted]\n",
    "top_nodes_pr[:5]"
   ]
  },
  {
   "cell_type": "markdown",
   "metadata": {},
   "source": [
    "### Reddit Network as Directed Multi-Graph"
   ]
  },
  {
   "cell_type": "code",
   "execution_count": 22,
   "metadata": {
    "collapsed": false
   },
   "outputs": [],
   "source": [
    "# read in graph of edge-list\n",
    "G_multi = get_edge_list(score=False, multi=True)"
   ]
  },
  {
   "cell_type": "code",
   "execution_count": 23,
   "metadata": {
    "collapsed": true
   },
   "outputs": [],
   "source": [
    "# drop specific nodes\n",
    "drop_nodes = ['AutoModerator','[deleted]']\n",
    "G_multi.remove_nodes_from(drop_nodes)"
   ]
  },
  {
   "cell_type": "code",
   "execution_count": 24,
   "metadata": {
    "collapsed": false
   },
   "outputs": [
    {
     "data": {
      "text/plain": [
       "9923573"
      ]
     },
     "execution_count": 24,
     "metadata": {},
     "output_type": "execute_result"
    }
   ],
   "source": [
    "# show number of edges (replies tied to submissions)\n",
    "G_multi.number_of_edges()"
   ]
  },
  {
   "cell_type": "code",
   "execution_count": 25,
   "metadata": {
    "collapsed": false
   },
   "outputs": [
    {
     "data": {
      "text/plain": [
       "463536"
      ]
     },
     "execution_count": 25,
     "metadata": {},
     "output_type": "execute_result"
    }
   ],
   "source": [
    "# show number of nodes (ids of commenters or submitters)\n",
    "G_multi.number_of_nodes()"
   ]
  },
  {
   "cell_type": "code",
   "execution_count": 26,
   "metadata": {
    "collapsed": false
   },
   "outputs": [],
   "source": [
    "# create dictionary of nodes as keys and PageRank score as value\n",
    "pr_dict_multi = nx.algorithms.pagerank_scipy(G_multi)"
   ]
  },
  {
   "cell_type": "code",
   "execution_count": 27,
   "metadata": {
    "collapsed": false
   },
   "outputs": [
    {
     "data": {
      "text/plain": [
       "463536"
      ]
     },
     "execution_count": 27,
     "metadata": {},
     "output_type": "execute_result"
    }
   ],
   "source": [
    "# ensure matches previous number of nodes\n",
    "len(pr_dict)"
   ]
  },
  {
   "cell_type": "code",
   "execution_count": 28,
   "metadata": {
    "collapsed": false
   },
   "outputs": [],
   "source": [
    "# create sorted list of tuples of nodes and their PageRank values, sorted by descending PR score\n",
    "pr_sorted_multi = [(key, pr_dict_multi[key]) for key in sorted(pr_dict_multi.iterkeys(), \n",
    "                                                         key=(lambda key: pr_dict_multi[key]), reverse=True)]"
   ]
  },
  {
   "cell_type": "code",
   "execution_count": 29,
   "metadata": {
    "collapsed": false
   },
   "outputs": [
    {
     "data": {
      "text/plain": [
       "463536"
      ]
     },
     "execution_count": 29,
     "metadata": {},
     "output_type": "execute_result"
    }
   ],
   "source": [
    "# ensure matches previous number of nodes\n",
    "len(pr_sorted_multi)"
   ]
  },
  {
   "cell_type": "code",
   "execution_count": 30,
   "metadata": {
    "collapsed": false
   },
   "outputs": [
    {
     "data": {
      "text/plain": [
       "[(u'AnalyzerX7', 0.004304594902323775),\n",
       " (u'Fast0rer', 0.0027710972514412347),\n",
       " (u'Egon_1', 0.0025582695732947894),\n",
       " (u'LeeWallis', 0.0024388230345278334),\n",
       " (u'EthTrader_Mod', 0.002371139272686851)]"
      ]
     },
     "execution_count": 30,
     "metadata": {},
     "output_type": "execute_result"
    }
   ],
   "source": [
    "# show top 5 values\n",
    "pr_sorted_multi[:5]"
   ]
  },
  {
   "cell_type": "code",
   "execution_count": 47,
   "metadata": {
    "collapsed": false
   },
   "outputs": [
    {
     "data": {
      "text/plain": [
       "[u'AnalyzerX7', u'Fast0rer', u'Egon_1', u'LeeWallis', u'EthTrader_Mod']"
      ]
     },
     "execution_count": 47,
     "metadata": {},
     "output_type": "execute_result"
    }
   ],
   "source": [
    "# get list of top 100 'best' nodes per PageRank\n",
    "top_nodes_pr_multi = [entry[0] for entry in pr_sorted_multi]\n",
    "top_nodes_pr_multi[:5]"
   ]
  },
  {
   "cell_type": "markdown",
   "metadata": {},
   "source": [
    "### Getting Counts of Subreddits per Author"
   ]
  },
  {
   "cell_type": "code",
   "execution_count": 33,
   "metadata": {
    "collapsed": false
   },
   "outputs": [
    {
     "data": {
      "text/plain": [
       "u'BashCo'"
      ]
     },
     "execution_count": 33,
     "metadata": {},
     "output_type": "execute_result"
    }
   ],
   "source": [
    "test_node = top_nodes_pr[0]\n",
    "test_node"
   ]
  },
  {
   "cell_type": "code",
   "execution_count": 34,
   "metadata": {
    "collapsed": true
   },
   "outputs": [],
   "source": [
    "def get_author_subreddits_submitted(author_id):\n",
    "    # get counts of posts and submissions in each subreddit\n",
    "    \n",
    "    # get data for author\n",
    "    try:\n",
    "        author_data = authors[author_id]\n",
    "    except:\n",
    "        raise ValueError('{} not found in author dictionary'.format(author_id))\n",
    "        return None\n",
    "    \n",
    "    # handle error if data is list, not dictionary\n",
    "    if type(author_data) == list:\n",
    "        return Counter()\n",
    "    \n",
    "    # initialize containers\n",
    "    sub_list = []\n",
    "    \n",
    "    # for all submissions author posted\n",
    "    for submission_id in author_data['submission_id']:\n",
    "        # append the subreddit to the list\n",
    "        try:\n",
    "            sub = submissions[submission_id]['subreddit'][0]\n",
    "            sub_list.append(sub)\n",
    "        except:\n",
    "            continue\n",
    "        \n",
    "    return Counter(sub_list)"
   ]
  },
  {
   "cell_type": "code",
   "execution_count": 35,
   "metadata": {
    "collapsed": false
   },
   "outputs": [
    {
     "data": {
      "text/plain": [
       "Counter({u'bitcoin': 121, u'bitcoinbeginners': 1})"
      ]
     },
     "execution_count": 35,
     "metadata": {},
     "output_type": "execute_result"
    }
   ],
   "source": [
    "sub_dict = get_author_subreddits_submitted(test_node)\n",
    "sub_dict"
   ]
  },
  {
   "cell_type": "code",
   "execution_count": 36,
   "metadata": {
    "collapsed": true
   },
   "outputs": [],
   "source": [
    "def get_author_subreddits_commented(author_id):\n",
    "    # get counts of posts and submissions in each subreddit\n",
    "    \n",
    "    # get data for author\n",
    "    try:\n",
    "        author_data = authors[author_id]\n",
    "    except:\n",
    "        raise ValueError('{} not found in author dictionary'.format(author_id))\n",
    "    \n",
    "    # handle error if data is list, not dictionary\n",
    "    if type(author_data) == list:\n",
    "        return Counter()\n",
    "\n",
    "    # initialize containers\n",
    "    com_list = []\n",
    "        \n",
    "    # for all comments author posted\n",
    "    for comment_id in author_data['comment_id']:\n",
    "        # append the subreddit to the list\n",
    "        try:\n",
    "            com = comments[comment_id]['subreddit']\n",
    "            com_list.append(com)\n",
    "        except:\n",
    "            continue\n",
    "    \n",
    "    return Counter(com_list)"
   ]
  },
  {
   "cell_type": "code",
   "execution_count": 37,
   "metadata": {
    "collapsed": false
   },
   "outputs": [
    {
     "data": {
      "text/plain": [
       "Counter({u'bitcoin': 14455,\n",
       "         u'bitcoinbeginners': 178,\n",
       "         u'bitcoindiscussion': 9,\n",
       "         u'bitcoinmarkets': 623,\n",
       "         u'bitcoinmining': 2,\n",
       "         u'btc': 245,\n",
       "         u'cryptocurrency': 38,\n",
       "         u'cryptomarkets': 9})"
      ]
     },
     "execution_count": 37,
     "metadata": {},
     "output_type": "execute_result"
    }
   ],
   "source": [
    "com_dict = get_author_subreddits_commented(test_node)\n",
    "com_dict"
   ]
  },
  {
   "cell_type": "code",
   "execution_count": 38,
   "metadata": {
    "collapsed": true
   },
   "outputs": [],
   "source": [
    "def get_author_subreddits_total(author_id):\n",
    "    # get counts of posts and submissions in each subreddit\n",
    "    \n",
    "    # get data for author\n",
    "    try:\n",
    "        author_data = authors[author_id]\n",
    "    except:\n",
    "        raise ValueError('{} not found in author dictionary'.format(author_id))\n",
    "    \n",
    "    # initialize containers\n",
    "    com_list = []\n",
    "    sub_list = []\n",
    "    \n",
    "    # for all submissions author posted\n",
    "    for submission_id in author_data['submission_id']:\n",
    "        # append the subreddit to the list\n",
    "        try:\n",
    "            sub = submissions[submission_id]['subreddit'][0]\n",
    "            sub_list.append(sub)\n",
    "        except:\n",
    "            continue\n",
    "        \n",
    "    # for all comments author posted\n",
    "    for comment_id in author_data['comment_id']:\n",
    "        # append the subreddit to the list\n",
    "        try:\n",
    "            com = comments[comment_id]['subreddit']\n",
    "            com_list.append(com)\n",
    "        except:\n",
    "            continue\n",
    "    \n",
    "    return Counter(com_list) + Counter(sub_list)"
   ]
  },
  {
   "cell_type": "code",
   "execution_count": 39,
   "metadata": {
    "collapsed": false
   },
   "outputs": [
    {
     "data": {
      "text/plain": [
       "Counter({u'bitcoin': 14576,\n",
       "         u'bitcoinbeginners': 179,\n",
       "         u'bitcoindiscussion': 9,\n",
       "         u'bitcoinmarkets': 623,\n",
       "         u'bitcoinmining': 2,\n",
       "         u'btc': 245,\n",
       "         u'cryptocurrency': 38,\n",
       "         u'cryptomarkets': 9})"
      ]
     },
     "execution_count": 39,
     "metadata": {},
     "output_type": "execute_result"
    }
   ],
   "source": [
    "tot_dict = get_author_subreddits_total(test_node)\n",
    "tot_dict"
   ]
  },
  {
   "cell_type": "markdown",
   "metadata": {},
   "source": [
    "### Write Out Stats on Top PR Nodes"
   ]
  },
  {
   "cell_type": "code",
   "execution_count": 40,
   "metadata": {
    "collapsed": true
   },
   "outputs": [],
   "source": [
    "def write_top_pr_subs(n=100, multi=False):\n",
    "    # write to disc the counts of the top n people's subreddits posted in\n",
    "    \n",
    "    # get proper PR dict\n",
    "    if multi:\n",
    "        top = top_nodes_pr[:n]\n",
    "    else:\n",
    "        top = top_nodes_pr_multi[:n]\n",
    "    \n",
    "    # create dictionary and DF for writing out data\n",
    "    out_count = Counter()\n",
    "    for auth in top:\n",
    "        out_count += get_author_subreddits_submitted(auth)\n",
    "\n",
    "    # create DF to write out\n",
    "    df = pd.Series(out_count)\n",
    "    if multi:\n",
    "        df.to_csv('../../data/final/output/top_{}_PR_subs-multi.csv'.format(n))\n",
    "    else:\n",
    "        df.to_csv('../../data/final/output/top_{}_PR_subs.csv'.format(n))"
   ]
  },
  {
   "cell_type": "code",
   "execution_count": 41,
   "metadata": {
    "collapsed": false
   },
   "outputs": [],
   "source": [
    "def write_top_pr_coms(n=100, multi=False):\n",
    "    # write to disc the counts of the top n people's subreddits posted in\n",
    "    \n",
    "    # get proper PR dict\n",
    "    if multi:\n",
    "        top = top_nodes_pr[:n]\n",
    "    else:\n",
    "        top = top_nodes_pr_multi[:n]\n",
    "    \n",
    "    # create dictionary and DF for writing out data\n",
    "    out_count = Counter()\n",
    "    for auth in top:\n",
    "        out_count += get_author_subreddits_commented(auth)\n",
    "    \n",
    "    # create DF to write out\n",
    "    df = pd.Series(out_count)\n",
    "    if multi:\n",
    "        df.to_csv('../../data/final/output/top_{}_PR_coms-multi.csv'.format(n))\n",
    "    else:\n",
    "        df.to_csv('../../data/final/output/top_{}_PR_coms.csv'.format(n))"
   ]
  },
  {
   "cell_type": "code",
   "execution_count": 42,
   "metadata": {
    "collapsed": true
   },
   "outputs": [],
   "source": [
    "def write_total_sub_counts():\n",
    "    # write to disc the counts of the top n people's subreddits posted in\n",
    "    \n",
    "    # create dictionary and DF for writing out data\n",
    "    out_count = Counter()\n",
    "    for i, auth in enumerate(authors.keys()):\n",
    "        if i % 50000 == 0: print('parsing author {}...'.format(i))\n",
    "        out_count += get_author_subreddits_submitted(auth)\n",
    "    \n",
    "    # create DF to write out\n",
    "    df = pd.Series(out_count)\n",
    "    df.to_csv('../../data/final/output/Total_subs.csv')"
   ]
  },
  {
   "cell_type": "code",
   "execution_count": 43,
   "metadata": {
    "collapsed": true
   },
   "outputs": [],
   "source": [
    "def write_total_com_counts():\n",
    "    # write to disc the counts of the top n people's subreddits posted in\n",
    "    \n",
    "    # create dictionary and DF for writing out data\n",
    "    out_count = Counter()\n",
    "    for i, auth in enumerate(authors.keys()):\n",
    "        if i % 50000 == 0: print('parsing author {}...'.format(i))\n",
    "        out_count += get_author_subreddits_commented(auth)\n",
    "    \n",
    "    # create DF to write out\n",
    "    df = pd.Series(out_count)\n",
    "    df.to_csv('../../data/final/output/Total_coms.csv')"
   ]
  },
  {
   "cell_type": "markdown",
   "metadata": {},
   "source": [
    "### Writing Out Top N-PageRank User's Subreddits"
   ]
  },
  {
   "cell_type": "code",
   "execution_count": 49,
   "metadata": {
    "collapsed": false
   },
   "outputs": [],
   "source": [
    "# write top 100 people's subs\n",
    "df_100_single = write_top_pr_subs(n=100, multi=True)\n",
    "df_100_multi = write_top_pr_subs(n=100,multi=False)"
   ]
  },
  {
   "cell_type": "code",
   "execution_count": 50,
   "metadata": {
    "collapsed": true
   },
   "outputs": [],
   "source": [
    "# write top 500 people's subs\n",
    "write_top_pr_subs(n=500, multi=True)\n",
    "write_top_pr_subs(n=500, multi=False)"
   ]
  },
  {
   "cell_type": "code",
   "execution_count": 51,
   "metadata": {
    "collapsed": true
   },
   "outputs": [],
   "source": [
    "# write top 1000 people's subs\n",
    "write_top_pr_subs(n=1000, multi=True)\n",
    "write_top_pr_subs(n=1000, multi=False)"
   ]
  },
  {
   "cell_type": "markdown",
   "metadata": {},
   "source": [
    "### Writing Out Top N-PageRank User's Comments"
   ]
  },
  {
   "cell_type": "code",
   "execution_count": 52,
   "metadata": {
    "collapsed": true
   },
   "outputs": [],
   "source": [
    "# write top 100 people's subs\n",
    "write_top_pr_coms(n=100, multi=True)\n",
    "write_top_pr_coms(n=100, multi=False)"
   ]
  },
  {
   "cell_type": "code",
   "execution_count": 53,
   "metadata": {
    "collapsed": true
   },
   "outputs": [],
   "source": [
    "# write top 500 people's subs\n",
    "write_top_pr_coms(n=500, multi=True)\n",
    "write_top_pr_coms(n=500, multi=False)"
   ]
  },
  {
   "cell_type": "code",
   "execution_count": 54,
   "metadata": {
    "collapsed": true
   },
   "outputs": [],
   "source": [
    "# write top 1000 people's subs\n",
    "write_top_pr_coms(n=1000, multi=True)\n",
    "write_top_pr_coms(n=1000, multi=False)"
   ]
  },
  {
   "cell_type": "code",
   "execution_count": 55,
   "metadata": {
    "collapsed": false
   },
   "outputs": [
    {
     "name": "stdout",
     "output_type": "stream",
     "text": [
      "parsing author 0...\n",
      "parsing author 50000...\n",
      "parsing author 100000...\n",
      "parsing author 150000...\n",
      "parsing author 200000...\n",
      "parsing author 250000...\n",
      "parsing author 300000...\n",
      "parsing author 350000...\n",
      "parsing author 400000...\n",
      "parsing author 450000...\n",
      "parsing author 500000...\n"
     ]
    }
   ],
   "source": [
    "write_total_sub_counts()"
   ]
  },
  {
   "cell_type": "code",
   "execution_count": 56,
   "metadata": {
    "collapsed": false
   },
   "outputs": [
    {
     "name": "stdout",
     "output_type": "stream",
     "text": [
      "parsing author 0...\n",
      "parsing author 50000...\n",
      "parsing author 100000...\n",
      "parsing author 150000...\n",
      "parsing author 200000...\n",
      "parsing author 250000...\n",
      "parsing author 300000...\n",
      "parsing author 350000...\n",
      "parsing author 400000...\n",
      "parsing author 450000...\n",
      "parsing author 500000...\n"
     ]
    }
   ],
   "source": [
    "write_total_com_counts()"
   ]
  }
 ],
 "metadata": {
  "kernelspec": {
   "display_name": "Python 2",
   "language": "python",
   "name": "python2"
  },
  "language_info": {
   "codemirror_mode": {
    "name": "ipython",
    "version": 2
   },
   "file_extension": ".py",
   "mimetype": "text/x-python",
   "name": "python",
   "nbconvert_exporter": "python",
   "pygments_lexer": "ipython2",
   "version": "2.7.5"
  }
 },
 "nbformat": 4,
 "nbformat_minor": 1
}
