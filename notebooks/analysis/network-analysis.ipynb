{
 "cells": [
  {
   "cell_type": "code",
   "execution_count": 1,
   "metadata": {
    "collapsed": false
   },
   "outputs": [],
   "source": [
    "import os\n",
    "import json\n",
    "import time\n",
    "import numpy as np\n",
    "import pandas as pd\n",
    "import networkx as nx\n",
    "import matplotlib.pyplot as plt\n",
    "\n",
    "from pprint import pprint\n",
    "from datetime import datetime\n",
    "from collections import Counter, defaultdict"
   ]
  },
  {
   "cell_type": "markdown",
   "metadata": {},
   "source": [
    "### Data Retrieval Functions"
   ]
  },
  {
   "cell_type": "code",
   "execution_count": 2,
   "metadata": {
    "collapsed": true
   },
   "outputs": [],
   "source": [
    "# read in comment dictionary\n",
    "def get_comment_dictionary(body=False):\n",
    "    # read in comment dictionary from file\n",
    "    if body:\n",
    "        comment_dict_dir = '../../data/final/dictionaries/comments.json'\n",
    "    else:\n",
    "        comment_dict_dir = '../../data/final/dictionaries/comments-no-body.json'\n",
    "        \n",
    "    with open(comment_dict_dir,'r') as f:\n",
    "            # load data\n",
    "            file_data = json.load(f)\n",
    "    \n",
    "    return file_data   "
   ]
  },
  {
   "cell_type": "code",
   "execution_count": 3,
   "metadata": {
    "collapsed": true
   },
   "outputs": [],
   "source": [
    "# read in author dictionary\n",
    "def get_author_dictionary():\n",
    "    # read in comment dictionary from file\n",
    "    comment_dict_dir = '../../data/final/dictionaries/authors.json'\n",
    "        \n",
    "    with open(comment_dict_dir,'r') as f:\n",
    "            # load data\n",
    "            file_data = json.load(f)\n",
    "    \n",
    "    return file_data"
   ]
  },
  {
   "cell_type": "code",
   "execution_count": 4,
   "metadata": {
    "collapsed": true
   },
   "outputs": [],
   "source": [
    "# read in submissions dictionary\n",
    "def get_submission_dictionary(body=False):\n",
    "    # read in comment dictionary from file\n",
    "    if body:\n",
    "        submission_dict_dir = '../../data/final/dictionaries/submissions.json'\n",
    "    else:\n",
    "        submission_dict_dir = '../../data/final/dictionaries/submissions-no-body.json'\n",
    "          \n",
    "    with open(submission_dict_dir,'r') as f:\n",
    "            # load data\n",
    "            file_data = json.load(f)\n",
    "    \n",
    "    return file_data"
   ]
  },
  {
   "cell_type": "markdown",
   "metadata": {},
   "source": [
    "### Get dictionaries and preview contents"
   ]
  },
  {
   "cell_type": "code",
   "execution_count": 5,
   "metadata": {
    "collapsed": false
   },
   "outputs": [
    {
     "data": {
      "text/plain": [
       "14105159"
      ]
     },
     "execution_count": 5,
     "metadata": {},
     "output_type": "execute_result"
    }
   ],
   "source": [
    "# create comment dict instance\n",
    "comments = get_comment_dictionary()\n",
    "len(comments)"
   ]
  },
  {
   "cell_type": "code",
   "execution_count": 6,
   "metadata": {
    "collapsed": false
   },
   "outputs": [
    {
     "data": {
      "text/plain": [
       "505476"
      ]
     },
     "execution_count": 6,
     "metadata": {},
     "output_type": "execute_result"
    }
   ],
   "source": [
    "# create author dict instance\n",
    "authors = get_author_dictionary()\n",
    "len(authors)"
   ]
  },
  {
   "cell_type": "code",
   "execution_count": 7,
   "metadata": {
    "collapsed": false
   },
   "outputs": [
    {
     "data": {
      "text/plain": [
       "1052598"
      ]
     },
     "execution_count": 7,
     "metadata": {},
     "output_type": "execute_result"
    }
   ],
   "source": [
    "# create instance of submission dict\n",
    "submissions = get_submission_dictionary()\n",
    "len(submissions)"
   ]
  },
  {
   "cell_type": "code",
   "execution_count": 8,
   "metadata": {
    "collapsed": false
   },
   "outputs": [
    {
     "data": {
      "text/plain": [
       "[(u'dt6g6rt',\n",
       "  {u'author_id': u'ensoul',\n",
       "   u'link_id': u't3_7sl6wo',\n",
       "   u'parent_id': u't1_dt6dq5m',\n",
       "   u'score': 1,\n",
       "   u'subreddit': u'ethtrader',\n",
       "   u'time': u'2018-01-25 02:48'}),\n",
       " (u'cfm9pti',\n",
       "  {u'author_id': u'coins1204',\n",
       "   u'link_id': u't3_1ynczs',\n",
       "   u'parent_id': u't1_cfm1ylx',\n",
       "   u'score': u'7',\n",
       "   u'subreddit': u'cryptocurrency'}),\n",
       " (u'c88rr1t',\n",
       "  {u'author_id': u'stormsbrewing',\n",
       "   u'link_id': u't3_17ti07',\n",
       "   u'parent_id': u't1_c88qms2',\n",
       "   u'score': u'1',\n",
       "   u'subreddit': u'bitcoin'}),\n",
       " (u'cqzmgta',\n",
       "  {u'author_id': u'Sukrim',\n",
       "   u'link_id': u't3_34zj70',\n",
       "   u'parent_id': u't1_cqzldn7',\n",
       "   u'score': u'2',\n",
       "   u'subreddit': u'bitcoin'}),\n",
       " (u'cn9anjy',\n",
       "  {u'author_id': u'anti09',\n",
       "   u'link_id': u't3_2qpozx',\n",
       "   u'parent_id': u't1_cn9514j',\n",
       "   u'score': u'0',\n",
       "   u'subreddit': u'bitcoin'})]"
      ]
     },
     "execution_count": 8,
     "metadata": {},
     "output_type": "execute_result"
    }
   ],
   "source": [
    "comments.items()[:5]"
   ]
  },
  {
   "cell_type": "code",
   "execution_count": 9,
   "metadata": {
    "collapsed": false,
    "scrolled": true
   },
   "outputs": [
    {
     "data": {
      "text/plain": [
       "[(u'seven_71',\n",
       "  {u'comment_id': [u'dplzxhh'],\n",
       "   u'submission_id': [u'7553hy',\n",
       "    u'75tz4x',\n",
       "    u'78a2h5',\n",
       "    u'7bze5x',\n",
       "    u'7d1m8l',\n",
       "    u'71mh1d']}),\n",
       " (u'umbertostrange',\n",
       "  {u'comment_id': [u'dq2m1ur',\n",
       "    u'dq2ma06',\n",
       "    u'dq2me8p',\n",
       "    u'dq2ny6l',\n",
       "    u'dq37pt6',\n",
       "    u'dpmgpuh',\n",
       "    u'dpmh9as',\n",
       "    u'dppjh42',\n",
       "    u'dppjj83',\n",
       "    u'dppn98b',\n",
       "    u'dpppl0x',\n",
       "    u'dpppufm',\n",
       "    u'dppq4x8',\n",
       "    u'dppqewp',\n",
       "    u'dppqq74',\n",
       "    u'dppquo9',\n",
       "    u'dppr8qt',\n",
       "    u'dpprobr',\n",
       "    u'dpq5g96',\n",
       "    u'dpr0n2a',\n",
       "    u'dpr0r51',\n",
       "    u'dpsesjx',\n",
       "    u'dpseu1t',\n",
       "    u'dpsh22b',\n",
       "    u'dpt1d29',\n",
       "    u'dpt1gcl',\n",
       "    u'dpt1t9z',\n",
       "    u'dpt2maa',\n",
       "    u'dpubi3g',\n",
       "    u'dpubz9x',\n",
       "    u'dpvhqw1',\n",
       "    u'dpvi3cq',\n",
       "    u'dpvi6s4',\n",
       "    u'dpvikk3',\n",
       "    u'dpviq85',\n",
       "    u'dpw6k8e',\n",
       "    u'dpw6lrq',\n",
       "    u'dpwsqq1',\n",
       "    u'dpxpo2n',\n",
       "    u'dpxppru',\n",
       "    u'dpxqect',\n",
       "    u'dpymhm6',\n",
       "    u'dpzahle',\n",
       "    u'dq0kmis',\n",
       "    u'dq18s6f',\n",
       "    u'dq192u2',\n",
       "    u'dq198kl',\n",
       "    u'dq48ywu',\n",
       "    u'dq4c8z3',\n",
       "    u'dqdghsn',\n",
       "    u'dqdi1iy',\n",
       "    u'dqdj62g',\n",
       "    u'drjvvst',\n",
       "    u'dvkmyzi',\n",
       "    u'dqoexku',\n",
       "    u'dqofa68',\n",
       "    u'drlqux0',\n",
       "    u'drlrtlq',\n",
       "    u'drlruux',\n",
       "    u'drlmy64',\n",
       "    u'drlr9x7',\n",
       "    u'drlr7jf',\n",
       "    u'drlmwng',\n",
       "    u'drlrest',\n",
       "    u'drlmmr3',\n",
       "    u'drlrjnu',\n",
       "    u'drlmyqi',\n",
       "    u'drlr1mb',\n",
       "    u'drlr36f',\n",
       "    u'drlrm27',\n",
       "    u'drlnpyu',\n",
       "    u'drlr98h',\n",
       "    u'drlnfjr',\n",
       "    u'drlrx7h'],\n",
       "   u'submission_id': []}),\n",
       " (u'papayapermakultur',\n",
       "  {u'comment_id': [u'dp4nyqa',\n",
       "    u'dkiamjs',\n",
       "    u'dkk4s7d',\n",
       "    u'dkto5kf',\n",
       "    u'dkwbd7i',\n",
       "    u'dl5rion',\n",
       "    u'dl5rkhq',\n",
       "    u'dm4e73r',\n",
       "    u'dnn3g75',\n",
       "    u'dno6sav',\n",
       "    u'dno9jtm',\n",
       "    u'dnop8ms',\n",
       "    u'dnounrn',\n",
       "    u'dnowvtb',\n",
       "    u'dnsws50',\n",
       "    u'dnyaeef',\n",
       "    u'dparqif',\n",
       "    u'dkoogel',\n",
       "    u'dkoomps',\n",
       "    u'dkop1w5',\n",
       "    u'dkop6w3',\n",
       "    u'dkopc9j',\n",
       "    u'dl5lekj',\n",
       "    u'dl5rsvc',\n",
       "    u'dow1ngw',\n",
       "    u'dpgkfkj',\n",
       "    u'dpj1u4c',\n",
       "    u'dqf7i25'],\n",
       "   u'submission_id': [u'6otknk', u'731a4v', u'7gi51g']}),\n",
       " (u'fappethyme',\n",
       "  {u'comment_id': [u'd989e4u', u'd9a9onc'], u'submission_id': []})]"
      ]
     },
     "execution_count": 9,
     "metadata": {},
     "output_type": "execute_result"
    }
   ],
   "source": [
    "authors.items()[1:5]"
   ]
  },
  {
   "cell_type": "code",
   "execution_count": 10,
   "metadata": {
    "collapsed": false
   },
   "outputs": [
    {
     "data": {
      "text/plain": [
       "[(u'dt6g6rt',\n",
       "  {u'author_id': u'ensoul',\n",
       "   u'link_id': u't3_7sl6wo',\n",
       "   u'parent_id': u't1_dt6dq5m',\n",
       "   u'score': 1,\n",
       "   u'subreddit': u'ethtrader',\n",
       "   u'time': u'2018-01-25 02:48'}),\n",
       " (u'cfm9pti',\n",
       "  {u'author_id': u'coins1204',\n",
       "   u'link_id': u't3_1ynczs',\n",
       "   u'parent_id': u't1_cfm1ylx',\n",
       "   u'score': u'7',\n",
       "   u'subreddit': u'cryptocurrency'}),\n",
       " (u'c88rr1t',\n",
       "  {u'author_id': u'stormsbrewing',\n",
       "   u'link_id': u't3_17ti07',\n",
       "   u'parent_id': u't1_c88qms2',\n",
       "   u'score': u'1',\n",
       "   u'subreddit': u'bitcoin'}),\n",
       " (u'cqzmgta',\n",
       "  {u'author_id': u'Sukrim',\n",
       "   u'link_id': u't3_34zj70',\n",
       "   u'parent_id': u't1_cqzldn7',\n",
       "   u'score': u'2',\n",
       "   u'subreddit': u'bitcoin'}),\n",
       " (u'cn9anjy',\n",
       "  {u'author_id': u'anti09',\n",
       "   u'link_id': u't3_2qpozx',\n",
       "   u'parent_id': u't1_cn9514j',\n",
       "   u'score': u'0',\n",
       "   u'subreddit': u'bitcoin'})]"
      ]
     },
     "execution_count": 10,
     "metadata": {},
     "output_type": "execute_result"
    }
   ],
   "source": [
    "comments.items()[:5]"
   ]
  },
  {
   "cell_type": "code",
   "execution_count": 11,
   "metadata": {
    "collapsed": false
   },
   "outputs": [
    {
     "data": {
      "text/plain": [
       "[(u'4jkdhy',\n",
       "  {u'author': [u'munteanualex_ro'],\n",
       "   u'body': [u'Original thread: https://redd.it/4iwfsx\\nAfter the execution, the malware send some data to bnaf12.no-ip.biz.  This is the attacker website http://paulie[.]rocks/\\n\\nhttp://imgur.com/pPinOgK\\n\\nhttps://bitcointalk.org/index.php?action=profile;u=838056\\nhttps://www.reddit.com/user/PaulieGolding\\nhttps://bazaarbay.org/@pauliegolding\\nhttps://www.bustabit.com/user/PaulieGolding'],\n",
       "   u'comment_id': [u'd37fjem',\n",
       "    u'd37gxkg',\n",
       "    u'd37k317',\n",
       "    u'd37kbpv',\n",
       "    u'd37lxoy',\n",
       "    u'd37lz3g',\n",
       "    u'd38qxcv',\n",
       "    u'd39fzj8'],\n",
       "   u'subreddit': [u'btc'],\n",
       "   u'time': [u'2016-05-16 09:28:23'],\n",
       "   u'title': [u'I found some information about the guy who stole $10,000 in cryptos']}),\n",
       " (u'4l0fxz',\n",
       "  {u'author': [u'heliumcraft'],\n",
       "   u'body': [u''],\n",
       "   u'comment_id': [u'd3jx5z0'],\n",
       "   u'subreddit': [u'ethereum'],\n",
       "   u'time': [u'2016-05-25 16:18:15'],\n",
       "   u'title': [u'EtherSim 0.4.0 - Ethereum simulator for testing and development purposes']}),\n",
       " (u'3byh3l',\n",
       "  {u'author': [u'CheeseVikings'],\n",
       "   u'body': [u''],\n",
       "   u'comment_id': [],\n",
       "   u'subreddit': [u'cryptocurrency'],\n",
       "   u'time': [u'2015-07-03 04:54:39'],\n",
       "   u'title': [u'The Future of the Web Looks a Lot Like Bitcoin']}),\n",
       " (u'6m9tx0',\n",
       "  {u'author': [u'HurtlingTurtle'],\n",
       "   u'body': [u''],\n",
       "   u'comment_id': [],\n",
       "   u'subreddit': [u'cryptocurrency'],\n",
       "   u'time': [u'2017-07-09 20:41:33'],\n",
       "   u'title': [u'https://www.blockrent.club']}),\n",
       " (u'1xs591',\n",
       "  {u'author': [u'galimi'],\n",
       "   u'body': [u''],\n",
       "   u'comment_id': [u'cfe63hw',\n",
       "    u'cfe6e30',\n",
       "    u'cfe6fem',\n",
       "    u'cfe6idz',\n",
       "    u'cfe6qa3',\n",
       "    u'cfe6qul',\n",
       "    u'cfe6y67',\n",
       "    u'cfe6yr7',\n",
       "    u'cfe71ib',\n",
       "    u'cfe74ec',\n",
       "    u'cfe7dhm',\n",
       "    u'cfe82e7',\n",
       "    u'cfe82pb',\n",
       "    u'cfe8zcb',\n",
       "    u'cfe9ujo',\n",
       "    u'cfednpr',\n",
       "    u'cfefu98',\n",
       "    u'cfeg9jk',\n",
       "    u'cfegont',\n",
       "    u'cfes2wg'],\n",
       "   u'subreddit': [u'bitcoin'],\n",
       "   u'time': [u'2014-02-13 06:00:46'],\n",
       "   u'title': [u'Had this created on Fiverr.com for $5 worth of Bitcoin']})]"
      ]
     },
     "execution_count": 11,
     "metadata": {},
     "output_type": "execute_result"
    }
   ],
   "source": [
    "submissions.items()[:5]"
   ]
  },
  {
   "cell_type": "code",
   "execution_count": 12,
   "metadata": {
    "collapsed": true
   },
   "outputs": [],
   "source": [
    "# create DIRECTED graph of comment_poster from edge_list\n",
    "def get_edge_list(score=False, multi=False):\n",
    "    if score:\n",
    "        filename='commenter-poster.txt'\n",
    "    else:\n",
    "        filename='commenter-poster_no-score.txt'\n",
    "    # read in edge list of commenters and submitters\n",
    "    if multi:\n",
    "        return nx.read_edgelist('../../data/final/graph_tools/' + filename, create_using=nx.MultiDiGraph())\n",
    "    else:\n",
    "        return nx.read_edgelist('../../data/final/graph_tools/' + filename, create_using=nx.DiGraph())"
   ]
  },
  {
   "cell_type": "markdown",
   "metadata": {},
   "source": [
    "### Reddit Network as Directed Graph"
   ]
  },
  {
   "cell_type": "code",
   "execution_count": 13,
   "metadata": {
    "collapsed": false
   },
   "outputs": [],
   "source": [
    "# read in graph of edge-list\n",
    "G = get_edge_list(score=False, multi=False)"
   ]
  },
  {
   "cell_type": "code",
   "execution_count": 14,
   "metadata": {
    "collapsed": true
   },
   "outputs": [],
   "source": [
    "G.name = 'single'"
   ]
  },
  {
   "cell_type": "code",
   "execution_count": 15,
   "metadata": {
    "collapsed": true
   },
   "outputs": [],
   "source": [
    "# drop specific nodes\n",
    "drop_nodes = ['AutoModerator','[deleted]']\n",
    "G.remove_nodes_from(drop_nodes)"
   ]
  },
  {
   "cell_type": "code",
   "execution_count": 16,
   "metadata": {
    "collapsed": false
   },
   "outputs": [
    {
     "data": {
      "text/plain": [
       "5011529"
      ]
     },
     "execution_count": 16,
     "metadata": {},
     "output_type": "execute_result"
    }
   ],
   "source": [
    "# show number of edges (replies tied to submissions)\n",
    "G.number_of_edges()"
   ]
  },
  {
   "cell_type": "code",
   "execution_count": 17,
   "metadata": {
    "collapsed": false
   },
   "outputs": [
    {
     "data": {
      "text/plain": [
       "463536"
      ]
     },
     "execution_count": 17,
     "metadata": {},
     "output_type": "execute_result"
    }
   ],
   "source": [
    "# show number of nodes (ids of commenters or submitters)\n",
    "G.number_of_nodes()"
   ]
  },
  {
   "cell_type": "markdown",
   "metadata": {},
   "source": [
    "### Reddit Network as Directed Multi-Graph"
   ]
  },
  {
   "cell_type": "code",
   "execution_count": 18,
   "metadata": {
    "collapsed": false
   },
   "outputs": [],
   "source": [
    "# read in graph of edge-list\n",
    "G_multi = get_edge_list(score=False, multi=True)"
   ]
  },
  {
   "cell_type": "code",
   "execution_count": 19,
   "metadata": {
    "collapsed": true
   },
   "outputs": [],
   "source": [
    "G_multi.name = 'multi'"
   ]
  },
  {
   "cell_type": "code",
   "execution_count": 20,
   "metadata": {
    "collapsed": true
   },
   "outputs": [],
   "source": [
    "# drop specific nodes\n",
    "drop_nodes = ['AutoModerator','[deleted]']\n",
    "G_multi.remove_nodes_from(drop_nodes)"
   ]
  },
  {
   "cell_type": "code",
   "execution_count": 21,
   "metadata": {
    "collapsed": false
   },
   "outputs": [
    {
     "data": {
      "text/plain": [
       "9923573"
      ]
     },
     "execution_count": 21,
     "metadata": {},
     "output_type": "execute_result"
    }
   ],
   "source": [
    "# show number of edges (replies tied to submissions)\n",
    "G_multi.number_of_edges()"
   ]
  },
  {
   "cell_type": "code",
   "execution_count": 22,
   "metadata": {
    "collapsed": false
   },
   "outputs": [
    {
     "data": {
      "text/plain": [
       "463536"
      ]
     },
     "execution_count": 22,
     "metadata": {},
     "output_type": "execute_result"
    }
   ],
   "source": [
    "# show number of nodes (ids of commenters or submitters)\n",
    "G_multi.number_of_nodes()"
   ]
  },
  {
   "cell_type": "markdown",
   "metadata": {},
   "source": [
    "### Analysis - Plotting"
   ]
  },
  {
   "cell_type": "code",
   "execution_count": 23,
   "metadata": {
    "collapsed": true
   },
   "outputs": [],
   "source": [
    "def plot_out_degree_distribution(G,name='graph'):\n",
    "    # plot degree dist for input Graph\n",
    "    # get list of (x,y) pairs for degrees and frequency\n",
    "    # and divide into final x and y sets\n",
    "    degrees = dict()\n",
    "    for node in G.nodes():\n",
    "        deg = G.out_degree(node)\n",
    "        degrees[deg] = degrees.get(deg,0) + 1\n",
    "    final_set = sorted(degrees.items(), key=lambda x: x[1],reverse=True)\n",
    "    \n",
    "    # sort final x/y inputs for plot\n",
    "    final_x, final_y = [k for (k,v) in final_set if v > 0 and k > 0], [v for (k,v) in final_set if v > 0 and k > 0]\n",
    "    \n",
    "    fig = plt.figure(figsize=(10,6))\n",
    "    ax = fig.add_subplot(111)\n",
    "    ax.plot(final_x,final_y)\n",
    "    ax.set_xscale('log')\n",
    "    ax.set_yscale('log')\n",
    "    plt.title('Out-Degrees of {}'.format(name))\n",
    "    plt.xlabel('Out-Degree (log-10)')\n",
    "    plt.ylabel('Count of Instances (log-10)')\n",
    "    plt.show()"
   ]
  },
  {
   "cell_type": "code",
   "execution_count": 24,
   "metadata": {
    "collapsed": false
   },
   "outputs": [
    {
     "data": {
      "image/png": "[encoded data removed]",
      "text/plain": [
       "<Figure size 720x432 with 1 Axes>"
      ]
     },
     "metadata": {},
     "output_type": "display_data"
    }
   ],
   "source": [
    "# plot single Graph\n",
    "plot_out_degree_distribution(G, name='Single Directed Reddit Graph')"
   ]
  },
  {
   "cell_type": "code",
   "execution_count": 25,
   "metadata": {
    "collapsed": false
   },
   "outputs": [
    {
     "data": {
      "image/png": "[encoded data removed]",
      "text/plain": [
       "<Figure size 720x432 with 1 Axes>"
      ]
     },
     "metadata": {},
     "output_type": "display_data"
    }
   ],
   "source": [
    "# plot multi Graph\n",
    "plot_out_degree_distribution(G_multi, name='Multi-Directed Reddit Graph')"
   ]
  },
  {
   "cell_type": "markdown",
   "metadata": {},
   "source": [
    "### Analysis - Plotting"
   ]
  },
  {
   "cell_type": "markdown",
   "metadata": {},
   "source": [
    "### Analysis - Data-Collection"
   ]
  },
  {
   "cell_type": "markdown",
   "metadata": {
    "collapsed": false
   },
   "source": [
    "num_cc = len([x for x in nx.connected_components(G.to_undirected())])\n",
    "print(num_cc)\n",
    "\n",
    "num_scc = len([x for x in nx.strongly_connected_components(G)])\n",
    "print(num_scc)\n",
    "\n",
    "num_wcc = len([x for x in nx.weakly_connected_components(G)])\n",
    "print(num_wcc)"
   ]
  },
  {
   "cell_type": "markdown",
   "metadata": {
    "collapsed": true
   },
   "source": [
    "avg_clust_coef = nx.algorithms.average_clustering(G.to_undirected())\n",
    "print(avg_clust_coef)\n",
    "\n",
    "avg_degree_conn = nx.algorithms.average_degree_connectivity(G)\n",
    "print(avg_degree_conn)\n",
    "\n",
    "avg_node_conn = nx.algorithms.average_node_connectivity(G)\n",
    "print(avg_node_conn)\n",
    "\n",
    "avg_neighb_deg = nx.algorithms.average_neighbor_degree(G)\n",
    "print(avg_neighb_deg)\n",
    "\n",
    "avg_shrt_path = nx.algorithms.average_shortest_path_length(G)\n",
    "print(avg_shrt_path)"
   ]
  },
  {
   "cell_type": "code",
   "execution_count": 26,
   "metadata": {
    "collapsed": true
   },
   "outputs": [],
   "source": [
    "def get_graph_statistics(graph_list):\n",
    "    \n",
    "    start = time.time()\n",
    "    \n",
    "    # collect all stats desired for graph\n",
    "    output = defaultdict(list)\n",
    "    \n",
    "    for i, graph in enumerate(graph_list):\n",
    "        print('Gathering stats on graph {}...'.format(i + 1))\n",
    "        \n",
    "        # collect stats on graph on connected components\n",
    "        #output['num_cc'].append(len([x for x in nx.connected_components(G.to_undirected())]))\n",
    "        #output['num_scc'].append(len([x for x in nx.strongly_connected_components(G)]))\n",
    "        #output['num_wcc'].append(len([x for x in nx.weakly_connected_components(G)]))\n",
    "\n",
    "        # run averaging calculations\n",
    "        output['avg_clust_coef'].append(nx.algorithms.average_clustering(G.to_undirected()))\n",
    "        output['avg_degree_conn'].append(nx.algorithms.average_degree_connectivity(G))\n",
    "        output['avg_node_conn'].append(nx.algorithms.average_node_connectivity(G))\n",
    "        output['avg_neighb_deg'].append(nx.algorithms.average_neighbor_degree(G))\n",
    "        output['avg_shrt_path'].append(nx.algorithms.average_shortest_path_length(G))\n",
    "    \n",
    "    # create DataFrame and write out to disc\n",
    "    df = pd.DataFrame(output)\n",
    "    df.to_csv('../../data/final/output/graph_stats.csv',index=False)\n",
    "    \n",
    "    end = time.time()\n",
    "    print('Process took {:.2f} seconds'.format(end-start))\n",
    "    \n",
    "    return df"
   ]
  },
  {
   "cell_type": "code",
   "execution_count": null,
   "metadata": {
    "collapsed": true
   },
   "outputs": [],
   "source": [
    "graphs = [G, G_multi]"
   ]
  },
  {
   "cell_type": "code",
   "execution_count": null,
   "metadata": {
    "collapsed": false
   },
   "outputs": [
    {
     "name": "stdout",
     "output_type": "stream",
     "text": [
      "Gathering stats on graph 1...\n"
     ]
    }
   ],
   "source": [
    "stats = get_graph_statistics(graphs)"
   ]
  },
  {
   "cell_type": "code",
   "execution_count": null,
   "metadata": {
    "collapsed": true
   },
   "outputs": [],
   "source": []
  },
  {
   "cell_type": "code",
   "execution_count": null,
   "metadata": {
    "collapsed": true
   },
   "outputs": [],
   "source": []
  },
  {
   "cell_type": "code",
   "execution_count": null,
   "metadata": {
    "collapsed": true
   },
   "outputs": [],
   "source": []
  },
  {
   "cell_type": "code",
   "execution_count": null,
   "metadata": {
    "collapsed": true
   },
   "outputs": [],
   "source": []
  },
  {
   "cell_type": "code",
   "execution_count": 29,
   "metadata": {
    "collapsed": false
   },
   "outputs": [
    {
     "data": {
      "text/plain": [
       "{'a': ['5', '4'], 'b': [5, 334]}"
      ]
     },
     "execution_count": 29,
     "metadata": {},
     "output_type": "execute_result"
    }
   ],
   "source": [
    "new_row = dict()\n",
    "new_row['a'] = ['5','4']\n",
    "new_row['b'] = [5,334]\n",
    "new_row"
   ]
  },
  {
   "cell_type": "code",
   "execution_count": 30,
   "metadata": {
    "collapsed": false
   },
   "outputs": [
    {
     "ename": "NameError",
     "evalue": "name 'example_df' is not defined",
     "traceback": [
      "\u001b[0;31m---------------------------------------------------------------------------\u001b[0m",
      "\u001b[0;31mNameError\u001b[0m                                 Traceback (most recent call last)",
      "\u001b[0;32m<ipython-input-30-e0f4bd2a008a>\u001b[0m in \u001b[0;36m<module>\u001b[0;34m()\u001b[0m\n\u001b[0;32m----> 1\u001b[0;31m \u001b[0mlen\u001b[0m\u001b[0;34m(\u001b[0m\u001b[0mexample_df\u001b[0m\u001b[0;34m)\u001b[0m\u001b[0;34m\u001b[0m\u001b[0m\n\u001b[0m",
      "\u001b[0;31mNameError\u001b[0m: name 'example_df' is not defined"
     ],
     "output_type": "error"
    }
   ],
   "source": [
    "len(example_df)"
   ]
  },
  {
   "cell_type": "code",
   "execution_count": null,
   "metadata": {
    "collapsed": false
   },
   "outputs": [],
   "source": [
    "test_df = pd.DataFrame.from_dict(new_row)\n",
    "test_df"
   ]
  },
  {
   "cell_type": "code",
   "execution_count": null,
   "metadata": {
    "collapsed": false
   },
   "outputs": [],
   "source": [
    "G.name = 'test'"
   ]
  },
  {
   "cell_type": "code",
   "execution_count": null,
   "metadata": {
    "collapsed": false
   },
   "outputs": [],
   "source": [
    "G.name"
   ]
  },
  {
   "cell_type": "code",
   "execution_count": null,
   "metadata": {
    "collapsed": true
   },
   "outputs": [],
   "source": [
    "def collect_statistics(input_graphs):\n",
    "    # return DF with statistical info on input graphs\n",
    "    "
   ]
  }
 ],
 "metadata": {
  "kernelspec": {
   "display_name": "Python 2",
   "language": "python",
   "name": "python2"
  },
  "language_info": {
   "codemirror_mode": {
    "name": "ipython",
    "version": 2
   },
   "file_extension": ".py",
   "mimetype": "text/x-python",
   "name": "python",
   "nbconvert_exporter": "python",
   "pygments_lexer": "ipython2",
   "version": "2.7.5"
  }
 },
 "nbformat": 4,
 "nbformat_minor": 1
}
